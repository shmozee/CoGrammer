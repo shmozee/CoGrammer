{
 "cells": [
  {
   "cell_type": "code",
   "execution_count": 1,
   "metadata": {},
   "outputs": [
    {
     "name": "stdout",
     "output_type": "stream",
     "text": [
      "['tok2vec', 'tagger', 'parser', 'attribute_ruler', 'lemmatizer', 'ner', 'spacytextblob']\n"
     ]
    }
   ],
   "source": [
    "import numpy as np\n",
    "import pandas as pd\n",
    "import spacy\n",
    "from spacytextblob.spacytextblob import SpacyTextBlob\n",
    "\n",
    "nlp = spacy.load('en_core_web_sm')\n",
    "\n",
    "# Add SpacyTextBlob to the pipeline\n",
    "nlp.add_pipe('spacytextblob')\n",
    "print(nlp.pipe_names)\n",
    "\n"
   ]
  },
  {
   "cell_type": "code",
   "execution_count": null,
   "metadata": {},
   "outputs": [],
   "source": []
  },
  {
   "cell_type": "code",
   "execution_count": 2,
   "metadata": {},
   "outputs": [],
   "source": [
    "# Text Preprocessing\n",
    "def preprocess_text(text):\n",
    "    # Create a spaCy document\n",
    "    doc = nlp(text)\n",
    "    \n",
    "    # Remove stopwords and punctuation\n",
    "    filtered_tokens = [token for token in doc if not token.is_stop and not token.is_punct]\n",
    "    \n",
    "    # Lemmatize the tokens\n",
    "    lemmatized_tokens = [token.lemma_ for token in filtered_tokens]\n",
    "    \n",
    "    # Join the lemmatized tokens back into a string\n",
    "    preprocessed_text = ' '.join(lemmatized_tokens)\n",
    "    \n",
    "    return preprocessed_text"
   ]
  },
  {
   "cell_type": "code",
   "execution_count": 3,
   "metadata": {},
   "outputs": [],
   "source": [
    "# Sentiment Analysis\n",
    "def analyze_sentiment(text):\n",
    "    # Create a spaCy document\n",
    "    doc = nlp(text)\n",
    "    \n",
    "    # Get the sentiment polarity and subjectivity\n",
    "    polarity = doc._.blob.polarity\n",
    "    subjectivity = doc._.blob.subjectivity\n",
    "    \n",
    "    # Determine the sentiment label\n",
    "    if polarity > 0:\n",
    "        sentiment = 'Positive'\n",
    "    elif polarity < 0:\n",
    "        sentiment = 'Negative'\n",
    "    else:\n",
    "        sentiment = 'Neutral'\n",
    "    \n",
    "    return sentiment, polarity, subjectivity\n"
   ]
  },
  {
   "cell_type": "code",
   "execution_count": 4,
   "metadata": {},
   "outputs": [],
   "source": [
    "# Load in the dataset\n",
    "df = pd.read_csv('amazon_product_review.csv')\n",
    "\n",
    "clean_data = df.dropna(subset=['reviews.text'])\n",
    "\n",
    "# # Preprocess the text column\n",
    "clean_data['preprocessed_text'] = clean_data['reviews.text'].apply(preprocess_text)\n",
    "\n",
    "# # # Analyze the sentiment of the preprocessed text\n",
    "clean_data['sentiment'], clean_data['polarity'], clean_data['subjectivity'] = zip(*clean_data['preprocessed_text'].apply(analyze_sentiment))\n",
    "\n"
   ]
  },
  {
   "cell_type": "code",
   "execution_count": 5,
   "metadata": {},
   "outputs": [
    {
     "data": {
      "text/plain": [
       "id                                                   AVqkIhwDv8e3D1O-lebb\n",
       "name                    All-New Fire HD 8 Tablet, 8 HD Display, Wi-Fi,...\n",
       "asins                                                          B01AHB9CN2\n",
       "brand                                                              Amazon\n",
       "categories              Electronics,iPad & Tablets,All Tablets,Fire Ta...\n",
       "keys                    841667104676,amazon/53004484,amazon/b01ahb9cn2...\n",
       "manufacturer                                                       Amazon\n",
       "reviews.date                                     2017-01-12T00:00:00.000Z\n",
       "reviews.dateAdded                                    2017-07-03T23:33:15Z\n",
       "reviews.dateSeen        2017-06-07T09:04:00.000Z,2017-04-30T00:45:00.000Z\n",
       "reviews.didPurchase                                                   NaN\n",
       "reviews.doRecommend                                                  True\n",
       "reviews.id                                                            NaN\n",
       "reviews.numHelpful                                                      0\n",
       "reviews.rating                                                          5\n",
       "reviews.sourceURLs      http://reviews.bestbuy.com/3545/5620406/review...\n",
       "reviews.text            I bought this for my grand daughter when she c...\n",
       "reviews.title                                   Fantastic Tablet for kids\n",
       "reviews.userCity                                                      NaN\n",
       "reviews.userProvince                                                  NaN\n",
       "reviews.username                                                explore42\n",
       "preprocessed_text       buy grand daughter come visit set user enter a...\n",
       "sentiment                                                        Positive\n",
       "polarity                                                         0.258929\n",
       "subjectivity                                                      0.56729\n",
       "Name: 4, dtype: object"
      ]
     },
     "execution_count": 5,
     "metadata": {},
     "output_type": "execute_result"
    }
   ],
   "source": [
    "clean_data.iloc[4, :]\n",
    "\n",
    "# id                                                   AVqkIhwDv8e3D1O-lebb\n",
    "# name                    All-New Fire HD 8 Tablet, 8 HD Display, Wi-Fi,...\n",
    "# asins                                                          B01AHB9CN2\n",
    "# brand                                                              Amazon\n",
    "# categories              Electronics,iPad & Tablets,All Tablets,Fire Ta...\n",
    "# keys                    841667104676,amazon/53004484,amazon/b01ahb9cn2...\n",
    "# manufacturer                                                       Amazon\n",
    "# reviews.date                                     2017-01-12T00:00:00.000Z\n",
    "# reviews.dateAdded                                    2017-07-03T23:33:15Z\n",
    "# reviews.dateSeen        2017-06-07T09:04:00.000Z,2017-04-30T00:45:00.000Z\n",
    "# reviews.didPurchase                                                   NaN\n",
    "# reviews.doRecommend                                                  True\n",
    "# reviews.id                                                            NaN\n",
    "# reviews.numHelpful                                                      0\n",
    "# reviews.rating                                                          5\n",
    "# reviews.sourceURLs      http://reviews.bestbuy.com/3545/5620406/review...\n",
    "# reviews.text            I bought this for my grand daughter when she c...\n",
    "# reviews.title                                   Fantastic Tablet for kids\n",
    "# reviews.userCity                                                      NaN\n",
    "# reviews.userProvince                                                  NaN\n",
    "# reviews.username                                                explore42\n",
    "# preprocessed_text       buy grand daughter come visit set user enter a...\n",
    "# sentiment                                                        Positive\n",
    "# polarity                                                         0.258929\n",
    "# subjectivity                                                      0.56729\n",
    "# Name: 4, dtype: object\n"
   ]
  },
  {
   "cell_type": "code",
   "execution_count": 6,
   "metadata": {},
   "outputs": [
    {
     "name": "stdout",
     "output_type": "stream",
     "text": [
      "Original text: ------------------------>\n",
      " I bought this for my grand daughter when she comes over to visit. I set it up with her as the user, entered her age and name and now Amazon makes sure that she only accesses sites and content that are appropriate to her age. Simple to do and she loves the capabilities. I also bought and installed a 64gig SD card which gives this little tablet plenty of storage. For the price I think this tablet is best one out there. You can spend hundreds of dollars more for additional speed and capacity but when it comes to the basics this tablets does everything that most people will ever need at a fraction of the cost.\n",
      "Preprocessed: ------------------------->\n",
      " buy grand daughter come visit set user enter age Amazon make sure access site content appropriate age simple love capability buy instal 64gig sd card give little tablet plenty storage price think tablet well spend hundred dollar additional speed capacity come basic tablet people need fraction cost\n"
     ]
    }
   ],
   "source": [
    "print('Original text: ------------------------>\\n', clean_data.iloc[4]['reviews.text'])\n",
    "print('Preprocessed: ------------------------->\\n', clean_data.iloc[4]['preprocessed_text'])\n"
   ]
  },
  {
   "cell_type": "code",
   "execution_count": 7,
   "metadata": {},
   "outputs": [
    {
     "data": {
      "text/plain": [
       "preprocessed_text    buy grand daughter come visit set user enter a...\n",
       "sentiment                                                     Positive\n",
       "polarity                                                      0.258929\n",
       "subjectivity                                                   0.56729\n",
       "Name: 4, dtype: object"
      ]
     },
     "execution_count": 7,
     "metadata": {},
     "output_type": "execute_result"
    }
   ],
   "source": [
    "clean_data.iloc[4,-4:]"
   ]
  },
  {
   "cell_type": "code",
   "execution_count": 8,
   "metadata": {},
   "outputs": [
    {
     "data": {
      "text/plain": [
       "Index(['id', 'name', 'asins', 'brand', 'categories', 'keys', 'manufacturer',\n",
       "       'reviews.date', 'reviews.dateAdded', 'reviews.dateSeen',\n",
       "       'reviews.didPurchase', 'reviews.doRecommend', 'reviews.id',\n",
       "       'reviews.numHelpful', 'reviews.rating', 'reviews.sourceURLs',\n",
       "       'reviews.text', 'reviews.title', 'reviews.userCity',\n",
       "       'reviews.userProvince', 'reviews.username', 'preprocessed_text',\n",
       "       'sentiment', 'polarity', 'subjectivity'],\n",
       "      dtype='object')"
      ]
     },
     "execution_count": 8,
     "metadata": {},
     "output_type": "execute_result"
    }
   ],
   "source": [
    "clean_data.columns"
   ]
  },
  {
   "cell_type": "code",
   "execution_count": 11,
   "metadata": {},
   "outputs": [
    {
     "name": "stdout",
     "output_type": "stream",
     "text": [
      "Review: the only downside of it is that you can't have google playstore on this tablet but you can still install it manually since they both based on android os\n",
      "Preprocessed Text: downside google playstore tablet install manually base android os\n",
      "Polarity: -0.8\n",
      "\n",
      "Review: For the price, this tablet is not bad. I found a couple of things that is a bit annoying. Every time you turn on the device, ads will appear in the lock screen. Also the picture gallery, it takes several minutes to load. The wait is very annoying.\n",
      "Preprocessed Text: price tablet bad find couple thing bit annoying time turn device ad appear lock screen picture gallery take minute load wait annoying\n",
      "Polarity: -0.7666666666666666\n",
      "\n",
      "Review: I'm disappointed that it doesn't have a mirror display mode.\n",
      "Preprocessed Text: disappointed mirror display mode\n",
      "Polarity: -0.75\n",
      "\n",
      "Review: I had to return my device due to WIFI signal dropping, maybe I just had a bad unit.\n",
      "Preprocessed Text: return device WIFI signal dropping maybe bad unit\n",
      "Polarity: -0.6999999999999998\n",
      "\n",
      "Review: My only disappointment is the inability to download some of the apps I use in my phone.\n",
      "Preprocessed Text: disappointment inability download app use phone\n",
      "Polarity: -0.6\n",
      "\n"
     ]
    }
   ],
   "source": [
    "# Show text of top 5 most negative reviews along with their polarity and preprocessed text\n",
    "for index, row in clean_data.sort_values('polarity').head().iterrows():\n",
    "    print(f\"Review: {row['reviews.text']}\")\n",
    "    print(f\"Preprocessed Text: {row['preprocessed_text']}\")\n",
    "    print(f\"Polarity: {row['polarity']}\")\n",
    "    print()"
   ]
  },
  {
   "cell_type": "code",
   "execution_count": 12,
   "metadata": {},
   "outputs": [
    {
     "name": "stdout",
     "output_type": "stream",
     "text": [
      "Review: This was a perfect gift for the holidays! I saw the reviews on this and immediately had to get it!\n",
      "Preprocessed Text: perfect gift holiday see review immediately\n",
      "Polarity: 1.0\n",
      "\n",
      "Review: Perfect for my wife and college daughter. Very easyTo learn reader.\n",
      "Preprocessed Text: Perfect wife college daughter easyTo learn reader\n",
      "Polarity: 1.0\n",
      "\n",
      "Review: I travel a lot and this is perfect for watching movies or reading on the flights\n",
      "Preprocessed Text: travel lot perfect watch movie read flight\n",
      "Polarity: 1.0\n",
      "\n",
      "Review: If you are looking for an entry level tablet, this is it.The Kindle fire HD is perfect for kids!\n",
      "Preprocessed Text: look entry level tablet Kindle fire HD perfect kid\n",
      "Polarity: 1.0\n",
      "\n",
      "Review: Perfect for our needs and an on the go mini computer and ereader.\n",
      "Preprocessed Text: perfect need mini computer ereader\n",
      "Polarity: 1.0\n",
      "\n"
     ]
    }
   ],
   "source": [
    "# Show the top 5 most positive reviews along with their polarity and preprocessed text\n",
    "for index, row in clean_data.sort_values('polarity', ascending=False).head().iterrows():\n",
    "    print(f\"Review: {row['reviews.text']}\")\n",
    "    print(f\"Preprocessed Text: {row['preprocessed_text']}\")\n",
    "    print(f\"Polarity: {row['polarity']}\")\n",
    "    print()"
   ]
  },
  {
   "cell_type": "code",
   "execution_count": 27,
   "metadata": {},
   "outputs": [
    {
     "data": {
      "text/plain": [
       "sentiment\n",
       "Positive    2074\n",
       "Neutral      139\n",
       "Negative      87\n",
       "Name: count, dtype: int64"
      ]
     },
     "execution_count": 27,
     "metadata": {},
     "output_type": "execute_result"
    }
   ],
   "source": [
    "# compare results of sentiment\n",
    "sentiment_counts = clean_data['sentiment'].value_counts()\n",
    "sentiment_counts"
   ]
  },
  {
   "cell_type": "code",
   "execution_count": null,
   "metadata": {},
   "outputs": [],
   "source": [
    "# From the above we can see that there is a majority positive sentiment on the amazon products \n",
    "# in comparison to the Neutral and negative sentinments.\n",
    "# So therefore an overall positive status on the product reviews at amazon based on our data"
   ]
  }
 ],
 "metadata": {
  "kernelspec": {
   "display_name": "Python 3",
   "language": "python",
   "name": "python3"
  },
  "language_info": {
   "codemirror_mode": {
    "name": "ipython",
    "version": 3
   },
   "file_extension": ".py",
   "mimetype": "text/x-python",
   "name": "python",
   "nbconvert_exporter": "python",
   "pygments_lexer": "ipython3",
   "version": "3.12.0"
  }
 },
 "nbformat": 4,
 "nbformat_minor": 2
}
